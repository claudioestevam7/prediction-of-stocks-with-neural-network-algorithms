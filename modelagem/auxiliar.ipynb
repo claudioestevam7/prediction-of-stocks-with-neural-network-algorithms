{
 "cells": [
  {
   "cell_type": "code",
   "execution_count": 9,
   "metadata": {},
   "outputs": [
    {
     "name": "stderr",
     "output_type": "stream",
     "text": [
      "2023-07-06 11:51:05.569001: I tensorflow/core/util/port.cc:110] oneDNN custom operations are on. You may see slightly different numerical results due to floating-point round-off errors from different computation orders. To turn them off, set the environment variable `TF_ENABLE_ONEDNN_OPTS=0`.\n",
      "2023-07-06 11:51:05.570344: I tensorflow/tsl/cuda/cudart_stub.cc:28] Could not find cuda drivers on your machine, GPU will not be used.\n",
      "2023-07-06 11:51:05.596271: I tensorflow/tsl/cuda/cudart_stub.cc:28] Could not find cuda drivers on your machine, GPU will not be used.\n",
      "2023-07-06 11:51:05.596858: I tensorflow/core/platform/cpu_feature_guard.cc:182] This TensorFlow binary is optimized to use available CPU instructions in performance-critical operations.\n",
      "To enable the following instructions: AVX2 AVX_VNNI FMA, in other operations, rebuild TensorFlow with the appropriate compiler flags.\n",
      "2023-07-06 11:51:06.226982: W tensorflow/compiler/tf2tensorrt/utils/py_utils.cc:38] TF-TRT Warning: Could not find TensorRT\n"
     ]
    }
   ],
   "source": [
    "import tensorflow as tf\n",
    "from tensorflow.keras.models import Sequential\n",
    "from tensorflow.keras.layers import LSTM, Dense\n",
    "from tensorflow.keras.models import load_model\n",
    "\n",
    "from sklearn.model_selection import train_test_split\n",
    "from sklearn.metrics import mean_absolute_percentage_error\n",
    "\n",
    "import numpy as np\n",
    "import pandas as pd"
   ]
  },
  {
   "cell_type": "code",
   "execution_count": 2,
   "metadata": {},
   "outputs": [],
   "source": [
    "dados = pd.read_excel('../codigos/data/2019.xlsx')\n",
    "ativos = dados.columns[1:]"
   ]
  },
  {
   "cell_type": "code",
   "execution_count": 3,
   "metadata": {},
   "outputs": [
    {
     "data": {
      "text/plain": [
       "Index(['ABEV3', 'B3SA3', 'BBAS3', 'BBDC3', 'BBDC4', 'BEEF3', 'BRAP4', 'BRFS3',\n",
       "       'BRKM5', 'CCRO3', 'CIEL3', 'CMIG4', 'CPFE3', 'CPLE6', 'CSAN3', 'CSNA3',\n",
       "       'CYRE3', 'EGIE3', 'ELET3', 'ELET6', 'EMBR3', 'ENBR3', 'ENEV3', 'ENGI11',\n",
       "       'EQTL3', 'EZTC3', 'FLRY3', 'GGBR4', 'GOAU4', 'GOLL4', 'HYPE3', 'ITSA4',\n",
       "       'ITUB4', 'JBSS3', 'JHSF3', 'LREN3', 'MRFG3', 'MRVE3', 'MULT3', 'PETR3',\n",
       "       'PETR4', 'RADL3', 'RENT3', 'SANB11', 'SBSP3', 'TAEE11', 'TIMS3',\n",
       "       'TOTS3', 'UGPA3', 'USIM5', 'VALE3', 'VIVT3', 'WEGE3', 'YDUQ3'],\n",
       "      dtype='object')"
      ]
     },
     "execution_count": 3,
     "metadata": {},
     "output_type": "execute_result"
    }
   ],
   "source": [
    "ativos"
   ]
  },
  {
   "cell_type": "code",
   "execution_count": 5,
   "metadata": {},
   "outputs": [],
   "source": [
    "d = pd.DataFrame(data={\"ativos\":ativos})\n",
    "d.to_excel('resultados.xlsx', index=False)"
   ]
  },
  {
   "cell_type": "code",
   "execution_count": 13,
   "metadata": {},
   "outputs": [],
   "source": [
    "from scipy import stats\n",
    "from sklearn.discriminant_analysis import StandardScaler\n",
    "\n",
    "\n",
    "def janelaDeslizante(vetor, janelaEntrada, janelaSaida):\n",
    "    \"\"\"\n",
    "    Calcula a matriz de conhecimento\n",
    "    Args:\n",
    "        vetor: Array com os valores da série temporal.\n",
    "        janelaEntrada: int com o tamanho da janela de entrada.\n",
    "        JanelaSaida: int com o tamanho da janela de saída.\n",
    "\n",
    "    Returns:\n",
    "        X: matriz com as entradas do modelo tem tamanho (numero de amostras X tamanho da janela entrada)\n",
    "        y: matriz com as saídas do modelo tem tamanho (numero de amostras X tamanho da janela de saida)\n",
    "    \"\"\"\n",
    "    #### YEO johnson\n",
    "    transformacao, lambda_param = stats.yeojohnson(vetor)\n",
    "    X_y = transformacao\n",
    "    \n",
    "    ## Padronização\n",
    "    scaler = StandardScaler()\n",
    "    f = np.array(X_y).reshape(-1,1)\n",
    "    X_p = scaler.fit_transform(f)\n",
    "    \n",
    "    X_p = np.array(X_p).flatten()\n",
    "    \n",
    "    num_amostras = len(X_p) - janelaEntrada - janelaSaida + 1\n",
    "    X = np.zeros((num_amostras, janelaEntrada))\n",
    "    y = np.zeros((num_amostras, janelaSaida))\n",
    "    for i in range(num_amostras):\n",
    "        X[i] = X_p[i : i + janelaEntrada]\n",
    "        y[i] = X_p[i + janelaEntrada : i + janelaEntrada + janelaSaida]\n",
    "\n",
    "    return X, y"
   ]
  },
  {
   "cell_type": "code",
   "execution_count": 12,
   "metadata": {},
   "outputs": [],
   "source": [
    "def dividirConjuntoDados(X,y, tamanhoTeste=0.2):\n",
    "  \"\"\"\n",
    "    Divide o conjunto de dados em treino e teste dado a porcentagem para o teste, sem realizar o embaralhamento\n",
    "    \n",
    "    Args:\n",
    "        X: matriz com as entradas do modelo tem tamanho (numero de amostras X tamanho da janela entrada)\n",
    "        Y: matriz com as saídas do modelo tem tamanho (numero de amostras X tamanho da janela de saida)\n",
    "        tamanhoTeste: float porcentagem referente ao tamanho do teste\n",
    "\n",
    "    Returns:\n",
    "        y_pred: matriz com as previsoes realizadas pelo modelo ajustado\n",
    "    \"\"\"\n",
    "  X_train, X_test, y_train, y_test = train_test_split(X, y, test_size=tamanhoTeste, random_state=42, shuffle=False)\n",
    "  \n",
    "  return X_train,y_train,X_test,y_test"
   ]
  },
  {
   "cell_type": "code",
   "execution_count": null,
   "metadata": {},
   "outputs": [],
   "source": [
    "################################################################\n",
    "### RESULTADOS INDIVIDUAIS\n",
    "\n",
    "\n",
    "train = []\n",
    "test = []\n",
    "## MODELO INDIVIDUAL\n",
    "dados = pd.read_excel('../codigos/data/2019.xlsx')\n",
    "ativos = dados.columns[1:]\n",
    "\n",
    "for ativo in ativos:\n",
    "# ativo = 'ABEV3'\n",
    "  X,y = janelaDeslizante(dados[ativo], 22,1)\n",
    "  X_train,y_train, X_test, y_test = dividirConjuntoDados(X,y)\n",
    "  modelo = tf.keras.models.load_model(f'models/individuais/{ativo}.h5')\n",
    "  y_pred_train = modelo.predict(X_train)\n",
    "  train.append(mean_absolute_percentage_error(y_train, y_pred_train))\n",
    "  y_pred_test = modelo.predict(X_test)\n",
    "  test.append(mean_absolute_percentage_error(y_test, y_pred_test))"
   ]
  },
  {
   "cell_type": "code",
   "execution_count": null,
   "metadata": {},
   "outputs": [],
   "source": [
    "resultado = pd.read_excel('resultados.xlsx')\n",
    "resultado[\"Mdelo Individual Treino\"] = train\n",
    "resultado[\"Mdelo Individual Teste\"] = test\n",
    "resultado.to_excel('resultado.xlsx', index=False)"
   ]
  },
  {
   "cell_type": "code",
   "execution_count": 24,
   "metadata": {},
   "outputs": [],
   "source": [
    "## MODELO POR GRUPOS\n",
    "classificacao = pd.read_excel('../codigos/resultados/2019/classes.xlsx')\n",
    "dados = pd.read_excel('../codigos/data/2019.xlsx')\n",
    "\n",
    "classes = [0,1,2,3,4,5,6,7]\n",
    "\n",
    "for classe in classes:\n",
    "\n",
    "    filtro = classificacao.query(f'classes=={classe}')\n",
    "    ativos = filtro['ativos']\n",
    "\n",
    "\n",
    "    ## CONTROI A MATRIZ DE CONHECIMENTO PARA OS ATIVOS DO CLUSTER\n",
    "    for i,ativo in enumerate(ativos):\n",
    "    if i == 0 :\n",
    "        X,y = janelaDeslizante(dados[ativo], 22,1)\n",
    "    else:\n",
    "        X_temp,y_temp = janelaDeslizante(dados[ativo], 22,1)\n",
    "        X = np.concatenate((X,X_temp), axis=0)\n",
    "        y = np.concatenate((y,y_temp), axis=0)\n",
    "    print(ativo, i)\n",
    "\n",
    "    ## MODELAGEM\n",
    "    X_train,y_train, X_test, y_test = dividirConjuntoDados(X,y)\n",
    "\n",
    "\n",
    "    modelo = tf.keras.models.load_model(f'models/agrupados/modeloAgrupadoClasse_{classe}.h5')\n",
    "    y_pred_train = modelo.predict(X_train)\n",
    "    train.append(mean_absolute_percentage_error(y_train, y_pred_train))\n",
    "    y_pred_test = modelo.predict(X_test)\n",
    "    test.append(mean_absolute_percentage_error(y_test, y_pred_test))"
   ]
  },
  {
   "cell_type": "code",
   "execution_count": 25,
   "metadata": {},
   "outputs": [
    {
     "data": {
      "text/plain": [
       "0.5792208177681912"
      ]
     },
     "execution_count": 25,
     "metadata": {},
     "output_type": "execute_result"
    }
   ],
   "source": [
    "### MODELO COM A MEDIA\n",
    "classificacao = pd.read_excel('../codigos/resultados/2019/classes.xlsx')\n",
    "dados = pd.read_excel('../codigos/data/2019.xlsx')\n",
    "classes = [0,1,2,3,4,5,6,7]\n",
    "\n",
    "for classe in classes:\n",
    "  filtro = classificacao.query(f'classes=={classe}')\n",
    "  ativos = filtro['ativos']\n",
    "\n",
    "  dados['media'] = dados[ativos].T.mean()\n",
    "\n",
    "  X,y = janelaDeslizante(dados['media'], 22,1)\n",
    "\n",
    "  X_train,y_train, X_test, y_test = dividirConjuntoDados(X,y)\n",
    "\n",
    "  modelo = tf.keras.models.load_model(f'models/media/classe_{classe}.h5')\n",
    "  y_pred_train = modelo.predict(X_train)\n",
    "  train.append(mean_absolute_percentage_error(y_train, y_pred_train))\n",
    "  y_pred_test = modelo.predict(X_test)\n",
    "  test.append(mean_absolute_percentage_error(y_test, y_pred_test))"
   ]
  },
  {
   "cell_type": "code",
   "execution_count": 26,
   "metadata": {},
   "outputs": [
    {
     "data": {
      "text/plain": [
       "0.5792208177681912"
      ]
     },
     "execution_count": 26,
     "metadata": {},
     "output_type": "execute_result"
    }
   ],
   "source": [
    "resultado = pd.read_excel('resultados.xlsx')\n",
    "resultado[\"Mdelo com a Média Treino\"] = train\n",
    "resultado[\"Mdelo com a Média Teste\"] = test\n",
    "resultado.to_excel('resultado.xlsx', index=False)"
   ]
  }
 ],
 "metadata": {
  "kernelspec": {
   "display_name": ".venv",
   "language": "python",
   "name": "python3"
  },
  "language_info": {
   "codemirror_mode": {
    "name": "ipython",
    "version": 3
   },
   "file_extension": ".py",
   "mimetype": "text/x-python",
   "name": "python",
   "nbconvert_exporter": "python",
   "pygments_lexer": "ipython3",
   "version": "3.11.4"
  },
  "orig_nbformat": 4
 },
 "nbformat": 4,
 "nbformat_minor": 2
}
